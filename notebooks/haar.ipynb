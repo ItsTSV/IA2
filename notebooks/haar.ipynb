{
 "cells": [
  {
   "cell_type": "code",
   "id": "initial_id",
   "metadata": {
    "collapsed": true,
    "ExecuteTime": {
     "end_time": "2025-09-22T14:08:38.654106Z",
     "start_time": "2025-09-22T14:08:38.647857Z"
    }
   },
   "source": [
    "import joblib\n",
    "import sklearn\n",
    "import cv2\n",
    "import glob\n",
    "from skimage.feature import haar_like_feature\n",
    "from skimage.transform import integral_image\n",
    "from sklearn.ensemble import RandomForestClassifier\n",
    "from utils import *"
   ],
   "outputs": [],
   "execution_count": 8
  },
  {
   "metadata": {
    "ExecuteTime": {
     "end_time": "2025-09-22T14:08:40.425490Z",
     "start_time": "2025-09-22T14:08:39.964625Z"
    }
   },
   "cell_type": "code",
   "source": [
    "# Image paths\n",
    "train_images = []\n",
    "for filename in glob.glob(\"../train_images/free/*.png\"):\n",
    "    train_images.append((cv2.imread(filename), 0))\n",
    "\n",
    "for filename in glob.glob(\"../test_images/full/*.png\"):\n",
    "    train_images.append((cv2.imread(filename), 1))"
   ],
   "id": "c060c5ea97502f5f",
   "outputs": [],
   "execution_count": 9
  },
  {
   "metadata": {
    "ExecuteTime": {
     "end_time": "2025-09-22T14:08:41.316696Z",
     "start_time": "2025-09-22T14:08:41.310323Z"
    }
   },
   "cell_type": "code",
   "source": [
    "# Haar feature extraction\n",
    "def extract_haar_features(img):\n",
    "    gray = cv2.cvtColor(img, cv2.COLOR_BGR2GRAY)\n",
    "    gray = cv2.resize(gray, (100, 150))\n",
    "    ii = integral_image(gray)\n",
    "    features = haar_like_feature(ii, 0, 0, ii.shape[0], ii.shape[1],\n",
    "                                 feature_type=['type-2-x', 'type-2-y',\n",
    "                                               'type-3-x', 'type-3-y'])\n",
    "    return features"
   ],
   "id": "a22102d2cf6ed92a",
   "outputs": [],
   "execution_count": 10
  },
  {
   "metadata": {
    "ExecuteTime": {
     "end_time": "2025-09-22T14:08:02.516564Z",
     "start_time": "2025-09-22T14:08:01.777850Z"
    }
   },
   "cell_type": "code",
   "source": [
    "# Extract features and labels\n",
    "X = []\n",
    "y = []\n",
    "for img, label in train_images:\n",
    "    features = extract_haar_features(img)\n",
    "    X.append(features)\n",
    "    y.append(label)"
   ],
   "id": "e9995b54e1ab5d64",
   "outputs": [
    {
     "ename": "KeyboardInterrupt",
     "evalue": "",
     "output_type": "error",
     "traceback": [
      "\u001B[0;31m---------------------------------------------------------------------------\u001B[0m",
      "\u001B[0;31mKeyboardInterrupt\u001B[0m                         Traceback (most recent call last)",
      "Cell \u001B[0;32mIn[7], line 5\u001B[0m\n\u001B[1;32m      3\u001B[0m y \u001B[38;5;241m=\u001B[39m []\n\u001B[1;32m      4\u001B[0m \u001B[38;5;28;01mfor\u001B[39;00m img, label \u001B[38;5;129;01min\u001B[39;00m train_images:\n\u001B[0;32m----> 5\u001B[0m     features \u001B[38;5;241m=\u001B[39m \u001B[43mextract_haar_features\u001B[49m\u001B[43m(\u001B[49m\u001B[43mimg\u001B[49m\u001B[43m)\u001B[49m\n\u001B[1;32m      6\u001B[0m     X\u001B[38;5;241m.\u001B[39mappend(features)\n\u001B[1;32m      7\u001B[0m     y\u001B[38;5;241m.\u001B[39mappend(label)\n",
      "Cell \u001B[0;32mIn[4], line 4\u001B[0m, in \u001B[0;36mextract_haar_features\u001B[0;34m(img)\u001B[0m\n\u001B[1;32m      2\u001B[0m gray \u001B[38;5;241m=\u001B[39m cv2\u001B[38;5;241m.\u001B[39mcvtColor(img, cv2\u001B[38;5;241m.\u001B[39mCOLOR_BGR2GRAY)\n\u001B[1;32m      3\u001B[0m ii \u001B[38;5;241m=\u001B[39m integral_image(gray)\n\u001B[0;32m----> 4\u001B[0m features \u001B[38;5;241m=\u001B[39m \u001B[43mhaar_like_feature\u001B[49m\u001B[43m(\u001B[49m\u001B[43mii\u001B[49m\u001B[43m,\u001B[49m\u001B[43m \u001B[49m\u001B[38;5;241;43m0\u001B[39;49m\u001B[43m,\u001B[49m\u001B[43m \u001B[49m\u001B[38;5;241;43m0\u001B[39;49m\u001B[43m,\u001B[49m\u001B[43m \u001B[49m\u001B[43mii\u001B[49m\u001B[38;5;241;43m.\u001B[39;49m\u001B[43mshape\u001B[49m\u001B[43m[\u001B[49m\u001B[38;5;241;43m0\u001B[39;49m\u001B[43m]\u001B[49m\u001B[43m,\u001B[49m\u001B[43m \u001B[49m\u001B[43mii\u001B[49m\u001B[38;5;241;43m.\u001B[39;49m\u001B[43mshape\u001B[49m\u001B[43m[\u001B[49m\u001B[38;5;241;43m1\u001B[39;49m\u001B[43m]\u001B[49m\u001B[43m,\u001B[49m\n\u001B[1;32m      5\u001B[0m \u001B[43m                             \u001B[49m\u001B[43mfeature_type\u001B[49m\u001B[38;5;241;43m=\u001B[39;49m\u001B[43m[\u001B[49m\u001B[38;5;124;43m'\u001B[39;49m\u001B[38;5;124;43mtype-2-x\u001B[39;49m\u001B[38;5;124;43m'\u001B[39;49m\u001B[43m,\u001B[49m\u001B[43m \u001B[49m\u001B[38;5;124;43m'\u001B[39;49m\u001B[38;5;124;43mtype-2-y\u001B[39;49m\u001B[38;5;124;43m'\u001B[39;49m\u001B[43m,\u001B[49m\n\u001B[1;32m      6\u001B[0m \u001B[43m                                           \u001B[49m\u001B[38;5;124;43m'\u001B[39;49m\u001B[38;5;124;43mtype-3-x\u001B[39;49m\u001B[38;5;124;43m'\u001B[39;49m\u001B[43m,\u001B[49m\u001B[43m \u001B[49m\u001B[38;5;124;43m'\u001B[39;49m\u001B[38;5;124;43mtype-3-y\u001B[39;49m\u001B[38;5;124;43m'\u001B[39;49m\u001B[43m]\u001B[49m\u001B[43m)\u001B[49m\n\u001B[1;32m      7\u001B[0m \u001B[38;5;28;01mreturn\u001B[39;00m features\n",
      "File \u001B[0;32m~/PycharmProjects/ANO2/.venv/lib/python3.8/site-packages/skimage/feature/haar.py:197\u001B[0m, in \u001B[0;36mhaar_like_feature\u001B[0;34m(int_image, r, c, width, height, feature_type, feature_coord)\u001B[0m\n\u001B[1;32m    194\u001B[0m \u001B[38;5;28;01mif\u001B[39;00m feature_coord \u001B[38;5;129;01mis\u001B[39;00m \u001B[38;5;28;01mNone\u001B[39;00m:\n\u001B[1;32m    195\u001B[0m     feature_type_ \u001B[38;5;241m=\u001B[39m _validate_feature_type(feature_type)\n\u001B[0;32m--> 197\u001B[0m     \u001B[38;5;28;01mreturn\u001B[39;00m np\u001B[38;5;241m.\u001B[39mhstack(\u001B[38;5;28;43mlist\u001B[39;49m\u001B[43m(\u001B[49m\u001B[43mchain\u001B[49m\u001B[38;5;241;43m.\u001B[39;49m\u001B[43mfrom_iterable\u001B[49m\u001B[43m(\u001B[49m\n\u001B[1;32m    198\u001B[0m \u001B[43m        \u001B[49m\u001B[43mhaar_like_feature_wrapper\u001B[49m\u001B[43m(\u001B[49m\u001B[43mint_image\u001B[49m\u001B[43m,\u001B[49m\u001B[43m \u001B[49m\u001B[43mr\u001B[49m\u001B[43m,\u001B[49m\u001B[43m \u001B[49m\u001B[43mc\u001B[49m\u001B[43m,\u001B[49m\u001B[43m \u001B[49m\u001B[43mwidth\u001B[49m\u001B[43m,\u001B[49m\u001B[43m \u001B[49m\u001B[43mheight\u001B[49m\u001B[43m,\u001B[49m\u001B[43m \u001B[49m\u001B[43mfeat_t\u001B[49m\u001B[43m,\u001B[49m\n\u001B[1;32m    199\u001B[0m \u001B[43m                                  \u001B[49m\u001B[43mfeature_coord\u001B[49m\u001B[43m)\u001B[49m\n\u001B[1;32m    200\u001B[0m \u001B[43m        \u001B[49m\u001B[38;5;28;43;01mfor\u001B[39;49;00m\u001B[43m \u001B[49m\u001B[43mfeat_t\u001B[49m\u001B[43m \u001B[49m\u001B[38;5;129;43;01min\u001B[39;49;00m\u001B[43m \u001B[49m\u001B[43mfeature_type_\u001B[49m\u001B[43m)\u001B[49m\u001B[43m)\u001B[49m)\n\u001B[1;32m    201\u001B[0m \u001B[38;5;28;01melse\u001B[39;00m:\n\u001B[1;32m    202\u001B[0m     \u001B[38;5;28;01mif\u001B[39;00m feature_coord\u001B[38;5;241m.\u001B[39mshape[\u001B[38;5;241m0\u001B[39m] \u001B[38;5;241m!=\u001B[39m feature_type\u001B[38;5;241m.\u001B[39mshape[\u001B[38;5;241m0\u001B[39m]:\n",
      "File \u001B[0;32m~/PycharmProjects/ANO2/.venv/lib/python3.8/site-packages/skimage/feature/haar.py:198\u001B[0m, in \u001B[0;36m<genexpr>\u001B[0;34m(.0)\u001B[0m\n\u001B[1;32m    194\u001B[0m \u001B[38;5;28;01mif\u001B[39;00m feature_coord \u001B[38;5;129;01mis\u001B[39;00m \u001B[38;5;28;01mNone\u001B[39;00m:\n\u001B[1;32m    195\u001B[0m     feature_type_ \u001B[38;5;241m=\u001B[39m _validate_feature_type(feature_type)\n\u001B[1;32m    197\u001B[0m     \u001B[38;5;28;01mreturn\u001B[39;00m np\u001B[38;5;241m.\u001B[39mhstack(\u001B[38;5;28mlist\u001B[39m(chain\u001B[38;5;241m.\u001B[39mfrom_iterable(\n\u001B[0;32m--> 198\u001B[0m         haar_like_feature_wrapper(int_image, r, c, width, height, feat_t,\n\u001B[1;32m    199\u001B[0m                                   feature_coord)\n\u001B[1;32m    200\u001B[0m         \u001B[38;5;28;01mfor\u001B[39;00m feat_t \u001B[38;5;129;01min\u001B[39;00m feature_type_)))\n\u001B[1;32m    201\u001B[0m \u001B[38;5;28;01melse\u001B[39;00m:\n\u001B[1;32m    202\u001B[0m     \u001B[38;5;28;01mif\u001B[39;00m feature_coord\u001B[38;5;241m.\u001B[39mshape[\u001B[38;5;241m0\u001B[39m] \u001B[38;5;241m!=\u001B[39m feature_type\u001B[38;5;241m.\u001B[39mshape[\u001B[38;5;241m0\u001B[39m]:\n",
      "\u001B[0;31mKeyboardInterrupt\u001B[0m: "
     ]
    }
   ],
   "execution_count": 7
  },
  {
   "metadata": {},
   "cell_type": "code",
   "outputs": [],
   "execution_count": null,
   "source": [
    "# Train and save\n",
    "clf = RandomForestClassifier()\n",
    "clf.fit(X, y)\n",
    "joblib.dump(clf, 'haar_model.joblib')"
   ],
   "id": "385d0061ae03eda4"
  }
 ],
 "metadata": {
  "kernelspec": {
   "display_name": "Python 3",
   "language": "python",
   "name": "python3"
  },
  "language_info": {
   "codemirror_mode": {
    "name": "ipython",
    "version": 2
   },
   "file_extension": ".py",
   "mimetype": "text/x-python",
   "name": "python",
   "nbconvert_exporter": "python",
   "pygments_lexer": "ipython2",
   "version": "2.7.6"
  }
 },
 "nbformat": 4,
 "nbformat_minor": 5
}
