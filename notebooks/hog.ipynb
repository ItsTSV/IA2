{
 "cells": [
  {
   "cell_type": "code",
   "id": "initial_id",
   "metadata": {
    "collapsed": true,
    "ExecuteTime": {
     "end_time": "2025-09-23T12:16:45.920026Z",
     "start_time": "2025-09-23T12:16:45.469896Z"
    }
   },
   "source": [
    "import joblib\n",
    "import glob\n",
    "from skimage.feature import hog\n",
    "from sklearn.ensemble import RandomForestClassifier\n",
    "from utils import *"
   ],
   "outputs": [],
   "execution_count": 3
  },
  {
   "metadata": {
    "ExecuteTime": {
     "end_time": "2025-09-23T12:16:48.516891Z",
     "start_time": "2025-09-23T12:16:47.884546Z"
    }
   },
   "cell_type": "code",
   "source": [
    "# Image paths\n",
    "train_images = []\n",
    "for filename in glob.glob(\"../train_images/free/*.png\"):\n",
    "    train_images.append((cv2.imread(filename), 0))\n",
    "\n",
    "for filename in glob.glob(\"../train_images/full/*.png\"):\n",
    "    train_images.append((cv2.imread(filename), 1))"
   ],
   "id": "4439c93491b9ff23",
   "outputs": [],
   "execution_count": 4
  },
  {
   "metadata": {
    "ExecuteTime": {
     "end_time": "2025-09-23T12:16:49.469374Z",
     "start_time": "2025-09-23T12:16:49.462482Z"
    }
   },
   "cell_type": "code",
   "source": [
    "# Extract HOG features\n",
    "def extract_hog_features(img):\n",
    "    gray = cv2.cvtColor(img, cv2.COLOR_BGR2GRAY)\n",
    "    gray = cv2.resize(gray, (100, 150))\n",
    "    features = hog(gray, orientations=8, pixels_per_cell=(16,16), cells_per_block=(1,1))\n",
    "    return features"
   ],
   "id": "5c3f7fcc6b6cbf24",
   "outputs": [],
   "execution_count": 5
  },
  {
   "metadata": {
    "ExecuteTime": {
     "end_time": "2025-09-23T12:16:58.737660Z",
     "start_time": "2025-09-23T12:16:50.722323Z"
    }
   },
   "cell_type": "code",
   "source": [
    "# Extract features and labels\n",
    "X = []\n",
    "y = []\n",
    "for img, label in train_images:\n",
    "    features = extract_hog_features(img)\n",
    "    X.append(features)\n",
    "    y.append(label)"
   ],
   "id": "9f439eda8735d109",
   "outputs": [],
   "execution_count": 6
  },
  {
   "metadata": {
    "ExecuteTime": {
     "end_time": "2025-09-23T12:17:10.157683Z",
     "start_time": "2025-09-23T12:17:04.561034Z"
    }
   },
   "cell_type": "code",
   "source": [
    "# Train and save\n",
    "clf = RandomForestClassifier()\n",
    "clf.fit(X, y)\n",
    "joblib.dump(clf, '../models/hog.joblib')"
   ],
   "id": "82eda5fddddc6a4a",
   "outputs": [
    {
     "data": {
      "text/plain": [
       "['../models/hog.joblib']"
      ]
     },
     "execution_count": 8,
     "metadata": {},
     "output_type": "execute_result"
    }
   ],
   "execution_count": 8
  }
 ],
 "metadata": {
  "kernelspec": {
   "display_name": "Python 3",
   "language": "python",
   "name": "python3"
  },
  "language_info": {
   "codemirror_mode": {
    "name": "ipython",
    "version": 2
   },
   "file_extension": ".py",
   "mimetype": "text/x-python",
   "name": "python",
   "nbconvert_exporter": "python",
   "pygments_lexer": "ipython2",
   "version": "2.7.6"
  }
 },
 "nbformat": 4,
 "nbformat_minor": 5
}
