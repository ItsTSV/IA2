{
 "cells": [
  {
   "metadata": {
    "ExecuteTime": {
     "end_time": "2025-09-23T11:59:33.292822Z",
     "start_time": "2025-09-23T11:59:33.288184Z"
    }
   },
   "cell_type": "code",
   "source": [
    "import joblib\n",
    "import glob\n",
    "from skimage.feature import local_binary_pattern\n",
    "from sklearn.ensemble import RandomForestClassifier\n",
    "from utils import *"
   ],
   "id": "1731295008627e0e",
   "outputs": [],
   "execution_count": 31
  },
  {
   "metadata": {
    "ExecuteTime": {
     "end_time": "2025-09-23T11:49:35.078583Z",
     "start_time": "2025-09-23T11:49:34.444861Z"
    }
   },
   "cell_type": "code",
   "source": [
    "# Image paths\n",
    "train_images = []\n",
    "for filename in glob.glob(\"../train_images/free/*.png\"):\n",
    "    train_images.append((cv2.imread(filename), 0))\n",
    "\n",
    "for filename in glob.glob(\"../train_images/full/*.png\"):\n",
    "    train_images.append((cv2.imread(filename), 1))"
   ],
   "id": "8e8712fb135669ae",
   "outputs": [],
   "execution_count": 19
  },
  {
   "metadata": {
    "ExecuteTime": {
     "end_time": "2025-09-23T11:49:35.831558Z",
     "start_time": "2025-09-23T11:49:35.826551Z"
    }
   },
   "cell_type": "code",
   "source": [
    "# Extract LBP features\n",
    "def extract_lbp_features(img):\n",
    "    gray = cv2.cvtColor(img, cv2.COLOR_BGR2GRAY)\n",
    "    gray = cv2.resize(gray, (100, 150))\n",
    "    lbp = local_binary_pattern(gray, P=16, R=2, method='uniform')\n",
    "    histogram = np.histogram(lbp.ravel(), bins=np.arange(0, 10), density=True)[0]\n",
    "    features = histogram / histogram.sum()\n",
    "    return features"
   ],
   "id": "3bfe5f6cd0da608f",
   "outputs": [],
   "execution_count": 20
  },
  {
   "metadata": {
    "ExecuteTime": {
     "end_time": "2025-09-23T11:57:23.389857Z",
     "start_time": "2025-09-23T11:57:11.083712Z"
    }
   },
   "cell_type": "code",
   "source": [
    "# Extract features and labels\n",
    "X = []\n",
    "y = []\n",
    "for img, label in train_images:\n",
    "    features = extract_lbp_features(img)\n",
    "    X.append(features)\n",
    "    y.append(label)"
   ],
   "id": "3e290465cc721092",
   "outputs": [],
   "execution_count": 24
  },
  {
   "metadata": {
    "ExecuteTime": {
     "end_time": "2025-09-23T12:00:54.573939Z",
     "start_time": "2025-09-23T12:00:53.858794Z"
    }
   },
   "cell_type": "code",
   "source": [
    "# Train and save\n",
    "clf = RandomForestClassifier()\n",
    "clf.fit(X, y)\n",
    "joblib.dump(clf, '../models/lbp.joblib')"
   ],
   "id": "14c6e7a20b893db3",
   "outputs": [
    {
     "data": {
      "text/plain": [
       "['../models/lbp.joblib']"
      ]
     },
     "execution_count": 35,
     "metadata": {},
     "output_type": "execute_result"
    }
   ],
   "execution_count": 35
  }
 ],
 "metadata": {
  "kernelspec": {
   "display_name": "Python 3",
   "language": "python",
   "name": "python3"
  },
  "language_info": {
   "codemirror_mode": {
    "name": "ipython",
    "version": 2
   },
   "file_extension": ".py",
   "mimetype": "text/x-python",
   "name": "python",
   "nbconvert_exporter": "python",
   "pygments_lexer": "ipython2",
   "version": "2.7.6"
  }
 },
 "nbformat": 4,
 "nbformat_minor": 5
}
