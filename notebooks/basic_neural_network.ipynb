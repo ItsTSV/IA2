{
 "cells": [
  {
   "cell_type": "code",
   "id": "initial_id",
   "metadata": {
    "collapsed": true
   },
   "source": [
    "import torch.nn as nn\n",
    "import torchvision\n",
    "import torch.utils.data\n",
    "import torch.optim as optim\n",
    "from models import BasicParkingNet"
   ],
   "outputs": [],
   "execution_count": null
  },
  {
   "metadata": {},
   "cell_type": "code",
   "source": [
    "# Dataset loading\n",
    "folder_train = torchvision.datasets.ImageFolder(\n",
    "    root=\"../train_images\",\n",
    "    transform=torchvision.transforms.Compose([\n",
    "        torchvision.transforms.Grayscale(),\n",
    "        torchvision.transforms.ColorJitter(brightness=0.4, contrast=0.4, saturation=0.4, hue=0.2),\n",
    "        torchvision.transforms.Resize((40, 60)),\n",
    "        torchvision.transforms.ToTensor()\n",
    "    ])\n",
    ")\n",
    "\n",
    "train_loader = torch.utils.data.DataLoader(\n",
    "    folder_train,\n",
    "    batch_size=32,\n",
    "    shuffle=True\n",
    ")"
   ],
   "id": "9c79e4338653d70c",
   "outputs": [],
   "execution_count": null
  },
  {
   "metadata": {},
   "cell_type": "code",
   "source": [
    "# Train\n",
    "device = torch.device(\"cuda\" if torch.cuda.is_available() else \"cpu\")\n",
    "model = BasicParkingNet().to(device).train()\n",
    "optimizer = optim.SGD(model.parameters(), lr=0.001, momentum=0.9)\n",
    "criterion = nn.BCEWithLogitsLoss()\n",
    "num_episodes = 100\n",
    "\n",
    "best_loss = float(\"inf\")\n",
    "for episode in range(num_episodes):\n",
    "    episode_loss = 0\n",
    "\n",
    "    for images, labels in train_loader:\n",
    "        # Preprocess\n",
    "        images, labels = images.to(device), labels.float().to(device).view(-1, 1)\n",
    "\n",
    "        # Reset gradients\n",
    "        optimizer.zero_grad()\n",
    "\n",
    "        # Feed stuff into model\n",
    "        outputs = model(images)\n",
    "\n",
    "        # Compute loss and backpropagate\n",
    "        loss = criterion(outputs, labels)\n",
    "        loss.backward()\n",
    "        optimizer.step()\n",
    "\n",
    "        # Accumulate loss\n",
    "        episode_loss += loss.item()\n",
    "\n",
    "    print(f\"Episode {episode}, loss: {episode_loss}\")\n",
    "\n",
    "    if episode_loss < best_loss:\n",
    "        best_loss = episode_loss\n",
    "        torch.save(model.state_dict(), \"../models/basic_parking_net.pth\")\n",
    "        print(\"\\tSaving!\")\n"
   ],
   "id": "99e3bc2cf7bd1670",
   "outputs": [],
   "execution_count": null
  }
 ],
 "metadata": {
  "kernelspec": {
   "display_name": "Python 3",
   "language": "python",
   "name": "python3"
  },
  "language_info": {
   "codemirror_mode": {
    "name": "ipython",
    "version": 2
   },
   "file_extension": ".py",
   "mimetype": "text/x-python",
   "name": "python",
   "nbconvert_exporter": "python",
   "pygments_lexer": "ipython2",
   "version": "2.7.6"
  }
 },
 "nbformat": 4,
 "nbformat_minor": 5
}
