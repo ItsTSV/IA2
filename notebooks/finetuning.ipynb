{
 "cells": [
  {
   "metadata": {},
   "cell_type": "code",
   "source": [
    "import torch.nn as nn\n",
    "import torchvision\n",
    "import torch.utils.data\n",
    "from models import ParkingMobileNetV3, ParkingEfficientNet"
   ],
   "id": "c7b9296fbc359a05",
   "outputs": [],
   "execution_count": null
  },
  {
   "metadata": {},
   "cell_type": "code",
   "source": [
    "# Dataset loading\n",
    "folder_train = torchvision.datasets.ImageFolder(\n",
    "    root=\"../train_images\",\n",
    "    transform=torchvision.transforms.Compose([\n",
    "        torchvision.transforms.Resize((224, 224)),\n",
    "        torchvision.transforms.ColorJitter(brightness=0.4, contrast=0.4, saturation=0.4, hue=0.2),\n",
    "        torchvision.transforms.Grayscale(),\n",
    "        torchvision.transforms.ToTensor(),\n",
    "    ])\n",
    ")\n",
    "\n",
    "train_loader = torch.utils.data.DataLoader(\n",
    "    folder_train,\n",
    "    batch_size=32,\n",
    "    shuffle=True\n",
    ")"
   ],
   "id": "86ed86b290e821a9",
   "outputs": [],
   "execution_count": null
  },
  {
   "metadata": {},
   "cell_type": "code",
   "source": [
    "device = torch.device(\"cuda\" if torch.cuda.is_available() else \"cpu\")\n",
    "model = ParkingEfficientNet().to(device)\n",
    "criterion = nn.BCEWithLogitsLoss()\n",
    "model.train()"
   ],
   "id": "7d48d2417a8989df",
   "outputs": [],
   "execution_count": null
  },
  {
   "metadata": {},
   "cell_type": "code",
   "source": [
    "# Train\n",
    "num_episodes = 10\n",
    "\n",
    "best_loss = float(\"inf\")\n",
    "for episode in range(num_episodes):\n",
    "    episode_loss = 0\n",
    "\n",
    "    for images, labels in train_loader:\n",
    "        # Preprocess\n",
    "        images, labels = images.to(device), labels.float().to(device).view(-1, 1)\n",
    "\n",
    "        # Reset gradients\n",
    "        model.optimizer.zero_grad()\n",
    "\n",
    "        # Feed stuff into model\n",
    "        outputs = model(images)\n",
    "\n",
    "        # Compute loss and backpropagate\n",
    "        loss = criterion(outputs, labels)\n",
    "        loss.backward()\n",
    "        model.optimizer.step()\n",
    "\n",
    "        # Accumulate loss\n",
    "        episode_loss += loss.item()\n",
    "\n",
    "    print(f\"Episode {episode}, loss: {episode_loss}\")\n",
    "\n",
    "    if episode_loss < best_loss:\n",
    "        best_loss = episode_loss\n",
    "        torch.save(model.state_dict(), \"../models/parking_efficientnet.pth\")\n",
    "        print(\"\\tSaving!\")\n"
   ],
   "id": "f40e784a2933e479",
   "outputs": [],
   "execution_count": null
  }
 ],
 "metadata": {
  "kernelspec": {
   "display_name": "Python 3",
   "language": "python",
   "name": "python3"
  },
  "language_info": {
   "codemirror_mode": {
    "name": "ipython",
    "version": 2
   },
   "file_extension": ".py",
   "mimetype": "text/x-python",
   "name": "python",
   "nbconvert_exporter": "python",
   "pygments_lexer": "ipython2",
   "version": "2.7.6"
  }
 },
 "nbformat": 4,
 "nbformat_minor": 5
}
